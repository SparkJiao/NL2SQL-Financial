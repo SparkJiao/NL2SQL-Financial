{
 "cells": [
  {
   "cell_type": "code",
   "execution_count": 1,
   "metadata": {},
   "outputs": [],
   "source": [
    "import json"
   ]
  },
  {
   "cell_type": "code",
   "execution_count": 2,
   "metadata": {},
   "outputs": [],
   "source": [
    "import random"
   ]
  },
  {
   "cell_type": "code",
   "execution_count": 4,
   "metadata": {},
   "outputs": [],
   "source": [
    "train = json.load(open('ccks_nl2sql/train.json', 'r', encoding='utf-8'))\n",
    "\n",
    "sub_train = []\n",
    "sub_dev = []\n",
    "\n",
    "indices = list(range(len(train)))\n",
    "sub_dev_id = set(random.sample(indices, 400))\n",
    "\n",
    "for i in range(len(train)):\n",
    "    if i in sub_dev_id:\n",
    "        sub_dev.append(train[i])\n",
    "    else:\n",
    "        sub_train.append(train[i])\n",
    "\n",
    "json.dump(sub_train, open('ccks_nl2sql/sub_train.json', 'w'))\n",
    "json.dump(sub_dev, open('ccks_nl2sql/sub_dev.json', 'w'))\n",
    "    "
   ]
  },
  {
   "cell_type": "code",
   "execution_count": null,
   "metadata": {},
   "outputs": [],
   "source": []
  }
 ],
 "metadata": {
  "kernelspec": {
   "display_name": "Python 3",
   "language": "python",
   "name": "python3"
  },
  "language_info": {
   "codemirror_mode": {
    "name": "ipython",
    "version": 3
   },
   "file_extension": ".py",
   "mimetype": "text/x-python",
   "name": "python",
   "nbconvert_exporter": "python",
   "pygments_lexer": "ipython3",
   "version": "3.7.6"
  }
 },
 "nbformat": 4,
 "nbformat_minor": 4
}
